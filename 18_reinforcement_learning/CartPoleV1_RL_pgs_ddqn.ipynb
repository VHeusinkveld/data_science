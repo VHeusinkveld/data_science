{
 "cells": [
  {
   "cell_type": "markdown",
   "metadata": {},
   "source": [
    "# RL on the CartPole-V1 Gym environment \n",
    ">Pages 613-642, Ch 18, Hands-On Machine Learning with Scikit-Learn, Keras, and TensorFlow, 2nd Edition.\n",
    "\n",
    "- [Hardcoded policy](#Hardcoded-policy)\n",
    "- [Policy Gradients REINFORCE](#NN-Policy-Gradients-REINFORCE)\n",
    "- [Deep Q-Learning](#Deep-Q-Learning)"
   ]
  },
  {
   "cell_type": "code",
   "execution_count": 1,
   "metadata": {},
   "outputs": [],
   "source": [
    "import gym\n",
    "import numpy as np\n",
    "import tensorflow as tf\n",
    "from tqdm import tqdm"
   ]
  },
  {
   "cell_type": "code",
   "execution_count": 2,
   "metadata": {},
   "outputs": [
    {
     "data": {
      "text/plain": [
       "[('Velocity', -0.009468447658954007),\n",
       " ('Position', 0.006884660973506061),\n",
       " ('Angle', 0.04254010262761253),\n",
       " ('Angular velocity', -0.038301621408187374)]"
      ]
     },
     "execution_count": 2,
     "metadata": {},
     "output_type": "execute_result"
    }
   ],
   "source": [
    "try: env\n",
    "except NameError: env = None\n",
    "if env is not None: env.close()\n",
    "\n",
    "env = gym.make(\"CartPole-v1\")\n",
    "obs = env.reset()\n",
    "list(zip(['Velocity', 'Position', 'Angle', 'Angular velocity'], obs))"
   ]
  },
  {
   "cell_type": "code",
   "execution_count": 3,
   "metadata": {},
   "outputs": [
    {
     "data": {
      "image/png": "[encoded data removed]",
      "text/plain": [
       "<Figure size 432x288 with 1 Axes>"
      ]
     },
     "metadata": {
      "needs_background": "light"
     },
     "output_type": "display_data"
    }
   ],
   "source": [
    "import matplotlib.pyplot as plt\n",
    "\n",
    "img = env.render(mode='rgb_array')\n",
    "_ = plt.imshow(img)\n",
    "_ = plt.axis('off')"
   ]
  },
  {
   "cell_type": "markdown",
   "metadata": {},
   "source": [
    "## Hardcoded policy"
   ]
  },
  {
   "cell_type": "code",
   "execution_count": 4,
   "metadata": {},
   "outputs": [
    {
     "name": "stdout",
     "output_type": "stream",
     "text": [
      "Mean: 42.13, Std: 8.23, Min: 24.0, Max: 61.0\n"
     ]
    }
   ],
   "source": [
    "from time import sleep\n",
    "\n",
    "render = False\n",
    "policy = lambda obs: int(obs[2] > 0)  # Move to the same direction of the pole \n",
    "\n",
    "rewards = []\n",
    "for episode in range(100):\n",
    "    obs = env.reset()\n",
    "    episode_reward = 0\n",
    "    for step in range(200):\n",
    "        action = policy(obs)\n",
    "        obs, reward, done, info = env.step(action)\n",
    "        episode_reward += reward\n",
    "        \n",
    "        if render:\n",
    "            env.render()\n",
    "            sleep(0.001)\n",
    "        if done:\n",
    "            rewards.append(episode_reward)\n",
    "            break    \n",
    "            \n",
    "print(f'Mean: {np.mean(rewards)}, Std: {np.std(rewards):.2f}, Min: {np.min(rewards)}, Max: {np.max(rewards)}'    )"
   ]
  },
  {
   "cell_type": "markdown",
   "metadata": {},
   "source": [
    "## NN Policy Gradients REINFORCE\n",
    "\n",
    "1. First, let the neural network policy play the game several times, and at each step, compute the gradients that would make the chosen action even more likely but don’t apply these gradients yet.\n",
    "2. Once you have run several episodes, compute each action’s advantage (using the method described in the previous section).\n",
    "3. If an action’s advantage is positive, it means that the action was probably good, and you want to apply the gradients computed earlier to make the action even more likely to be chosen in the future. However, if the action’s advantage is negative, it means the action was probably bad, and you want to apply the opposite gradients to make this action slightly less likely in the future. The solution is simply to multiply each gradient vector by the corresponding action’s advantage.\n",
    "4. Finally, compute the mean of all the resulting gradient vectors, and use it to perform a Gradient Descent step"
   ]
  },
  {
   "cell_type": "markdown",
   "metadata": {},
   "source": [
    "### Create a model"
   ]
  },
  {
   "cell_type": "code",
   "execution_count": 5,
   "metadata": {},
   "outputs": [],
   "source": [
    "from tensorflow.keras import Sequential\n",
    "from tensorflow.keras.layers import Dense\n",
    "from tensorflow.keras.losses import binary_crossentropy\n",
    "from tensorflow.keras.optimizers import Adam\n",
    "\n",
    "model = Sequential([\n",
    "    Dense(16, activation='elu', input_shape=[env.observation_space.shape[0]]),\n",
    "    Dense(1, activation='sigmoid'),  # Binary action, left or right\n",
    "])\n",
    "\n",
    "optimizer = Adam(lr=1e-2)\n",
    "loss_fn = binary_crossentropy"
   ]
  },
  {
   "cell_type": "markdown",
   "metadata": {},
   "source": [
    "### Breakdown of the problem in helper function steps"
   ]
  },
  {
   "cell_type": "code",
   "execution_count": 6,
   "metadata": {},
   "outputs": [],
   "source": [
    "from time import sleep\n",
    "\n",
    "def run_one_step(env: gym.Env, obs: np.ndarray,\n",
    "                 model: tf.keras.Model, loss_fn: tf.keras.losses,\n",
    "                 render: bool):\n",
    "    \"\"\"Run one step of the environment. Option to render with 100 fps.\n",
    "    \n",
    "    - Compute and record gradients assuming all taken actions are correct\n",
    "    - Advance one step in the environment\n",
    "    \"\"\"\n",
    "    \n",
    "    with tf.GradientTape() as tape:\n",
    "        left_proba = model(obs[np.newaxis])\n",
    "        action = tf.random.uniform([1, 1]) > left_proba\n",
    "        \n",
    "        # Assume always correct. i.e. left action == 0 -> left proba == 1\n",
    "        target_y = tf.constant([1.]) - tf.cast(action, tf.float32)\n",
    "        loss = loss_fn(target_y, left_proba)\n",
    "    \n",
    "    gradients = tape.gradient(loss, model.trainable_variables)\n",
    "    obs, reward, done, info = env.step(int(action))\n",
    "    \n",
    "    if render:\n",
    "        env.render()\n",
    "        sleep(0.01) # 100 fps\n",
    "    \n",
    "    return obs, reward, done, gradients\n",
    "\n",
    "\n",
    "def run_episodes(env: gym.Env, n_episodes: int, n_max_steps: int,\n",
    "                 model: tf.keras.Model, loss_fn: tf.keras.losses,\n",
    "                 render: bool = False):\n",
    "    \"\"\"Run multiple episodes looping over run_one_step\n",
    "    \n",
    "    - Record rewards and gradients\n",
    "    \"\"\"\n",
    "    \n",
    "    all_gradients = []\n",
    "    all_rewards = []\n",
    "    for episode in range(n_episodes):\n",
    "        obs = env.reset()\n",
    "        episode_gradients = []\n",
    "        episode_rewards = []\n",
    "        for step in range(n_max_steps):\n",
    "            obs, reward, done, gradients = run_one_step(env, obs, model, loss_fn, render)\n",
    "\n",
    "            episode_rewards.append(reward)\n",
    "            episode_gradients.append(gradients)\n",
    "\n",
    "            if done:\n",
    "                break\n",
    "                \n",
    "        all_rewards.append(episode_rewards)       \n",
    "        all_gradients.append(episode_gradients)\n",
    "                \n",
    "    return all_gradients, all_rewards\n",
    "  \n",
    "\n",
    "def discount_all_rewards(all_rewards: '2D arary', gamma):\n",
    "    \"\"\"Discount rewards (list of lists) with factor gamma\"\"\"\n",
    "    \n",
    "    all_discounted_rewards = []    \n",
    "    for episode_rewards in all_rewards:\n",
    "        discounted_rewards = [episode_rewards[-1]]\n",
    "        for i in range(len(episode_rewards) - 1):\n",
    "            discounted_rewards.append(episode_rewards[-i + 1] + gamma*discounted_rewards[i])\n",
    "        discounted_rewards.reverse()\n",
    "        \n",
    "        all_discounted_rewards.append(discounted_rewards)\n",
    "   \n",
    "    return all_discounted_rewards\n",
    "\n",
    "\n",
    "def normalize_all_rewards(all_rewards: '2D array'):\n",
    "    \"\"\"Normalize rewards (list of lists)\"\"\"   \n",
    "    \n",
    "    all_norm_rewards = []\n",
    "    for episode_rewards in all_rewards:\n",
    "        rewards_mean = np.mean(episode_rewards)\n",
    "        rewards_std = np.std(episode_rewards)\n",
    "        \n",
    "        normed_episode_rewards = (np.array(episode_rewards) - rewards_mean ) / rewards_std\n",
    "        \n",
    "        all_norm_rewards.append(normed_episode_rewards)\n",
    "    \n",
    "    return all_norm_rewards\n",
    "\n",
    "\n",
    "def report_stats(rewards):\n",
    "    rewards = [sum(reward) for reward in rewards]\n",
    "    rewards = np.array(rewards)\n",
    "    return f'Mean: {np.mean(rewards)}, Std: {np.std(rewards):.2f}, Min: {np.min(rewards)}, Max: {np.max(rewards)}'    "
   ]
  },
  {
   "cell_type": "markdown",
   "metadata": {},
   "source": [
    "### Stiching it all together"
   ]
  },
  {
   "cell_type": "code",
   "execution_count": 7,
   "metadata": {},
   "outputs": [
    {
     "name": "stdout",
     "output_type": "stream",
     "text": [
      "Iteration 0/101: Mean: 14.6, Std: 3.01, Min: 11.0, Max: 20.0\n",
      "Iteration 10/101: Mean: 21.6, Std: 12.52, Min: 11.0, Max: 45.0\n",
      "Iteration 20/101: Mean: 24.4, Std: 7.39, Min: 15.0, Max: 36.0\n",
      "Iteration 30/101: Mean: 39.6, Std: 22.95, Min: 18.0, Max: 79.0\n",
      "Iteration 40/101: Mean: 56.8, Std: 32.89, Min: 27.0, Max: 116.0\n",
      "Iteration 50/101: Mean: 105.6, Std: 22.01, Min: 81.0, Max: 144.0\n",
      "Iteration 60/101: Mean: 105.0, Std: 19.50, Min: 81.0, Max: 137.0\n",
      "Iteration 70/101: Mean: 158.6, Std: 65.08, Min: 32.0, Max: 200.0\n",
      "Iteration 80/101: Mean: 200.0, Std: 0.00, Min: 200.0, Max: 200.0\n",
      "Iteration 90/101: Mean: 188.4, Std: 23.20, Min: 142.0, Max: 200.0\n",
      "Iteration 100/101: Mean: 194.2, Std: 11.60, Min: 171.0, Max: 200.0\n"
     ]
    }
   ],
   "source": [
    "train_steps = 101\n",
    "gamma = 0.95  # discount factor\n",
    "\n",
    "n_episodes = 5  # episodes per training step\n",
    "n_max_steps = 200  # max number of steps per episode, 200 for CartPole\n",
    "\n",
    "for train_step in range(train_steps):\n",
    "    gradients, rewards = run_episodes(env=env, n_episodes=n_episodes, n_max_steps=n_max_steps, \n",
    "                                      model=model, loss_fn=loss_fn, render=False)\n",
    "    \n",
    "    if not train_step%10:\n",
    "        print(f'Iteration {train_step}/{train_steps}: {report_stats(rewards)}')\n",
    "    \n",
    "    discounted_rewards = discount_all_rewards(rewards, gamma)\n",
    "    normalized_rewards = normalize_all_rewards(discounted_rewards)\n",
    "    \n",
    "    all_gradients = []\n",
    "    for var_index in range(len(model.trainable_variables)):\n",
    "        var_gradients = []\n",
    "        for episode_rewards, episode_gradients in zip(normalized_rewards, gradients):\n",
    "            for step_reward, step_gradients in zip(episode_rewards, episode_gradients):\n",
    "                var_gradients.append(step_reward*step_gradients[var_index])\n",
    "                \n",
    "        var_gradients = np.mean(var_gradients, axis=0)\n",
    "        all_gradients.append(var_gradients)\n",
    "                \n",
    "    optimizer.apply_gradients(zip(all_gradients, model.trainable_variables))"
   ]
  },
  {
   "cell_type": "markdown",
   "metadata": {},
   "source": [
    "### Visualizing the learned model"
   ]
  },
  {
   "cell_type": "code",
   "execution_count": 8,
   "metadata": {},
   "outputs": [
    {
     "name": "stdout",
     "output_type": "stream",
     "text": [
      "200/200\n"
     ]
    }
   ],
   "source": [
    "# NOTE: you need to have a display to see the result\n",
    "_, all_rewards = run_episodes(env, n_episodes=1, n_max_steps=n_max_steps,\n",
    "                              model=model, loss_fn=loss_fn, render=True)\n",
    "\n",
    "print(f'{int(sum(all_rewards[0]))}/{n_max_steps}')"
   ]
  },
  {
   "cell_type": "markdown",
   "metadata": {},
   "source": [
    "## Deep Q-Learning\n",
    "\n",
    "Approximate Q learning using the equation\n",
    "> $Q_{target}\\left( s,a \\right) = r + \\gamma \\cdot \\max_{a'} Q_{\\Theta}\\left( s',a' \\right)$\n",
    "\n",
    "where $\\left( s,a \\right)$ is the state action pair, $\\gamma$ a discount factor. $\\max_{a'}$ indicates that we choose the Q-Value given the optimal action. Our NN will model a function that returns the Q-Value given a certain state action pair.\n",
    "\n",
    "This function can be applied iteratively. The objective is to minimize $Q_{target}\\left( s,a \\right) - \\left( r + \\gamma \\cdot \\max_{a'} Q_{\\Theta}\\left( s',a' \\right)\\right)$.\n",
    "\n",
    "Example:\n",
    "\n",
    "$S_0$ -> r+=0 -> $S_1$ \n",
    "\n",
    "$S_0$ -> r+=1 -> $S_2$ "
   ]
  },
  {
   "cell_type": "markdown",
   "metadata": {},
   "source": [
    "### The model"
   ]
  },
  {
   "cell_type": "code",
   "execution_count": 29,
   "metadata": {},
   "outputs": [
    {
     "name": "stdout",
     "output_type": "stream",
     "text": [
      "Model: \"sequential_2\"\n",
      "_________________________________________________________________\n",
      "Layer (type)                 Output Shape              Param #   \n",
      "=================================================================\n",
      "dense_5 (Dense)              (None, 32)                128       \n",
      "_________________________________________________________________\n",
      "batch_normalization_2 (Batch (None, 32)                128       \n",
      "_________________________________________________________________\n",
      "dense_6 (Dense)              (None, 32)                1024      \n",
      "_________________________________________________________________\n",
      "batch_normalization_3 (Batch (None, 32)                128       \n",
      "_________________________________________________________________\n",
      "dense_7 (Dense)              (None, 2)                 66        \n",
      "=================================================================\n",
      "Total params: 1,474\n",
      "Trainable params: 1,346\n",
      "Non-trainable params: 128\n",
      "_________________________________________________________________\n"
     ]
    }
   ],
   "source": [
    "from tensorflow.keras import Sequential\n",
    "from tensorflow.keras.layers import Dense, BatchNormalization\n",
    "from tensorflow.keras.losses import huber\n",
    "from tensorflow.keras.optimizers import Adam\n",
    "\n",
    "N_OUTPUTS = 2  # Q-Value for every possible action (Left and right)\n",
    "\n",
    "model = Sequential([\n",
    "    Dense(32, activation='elu', input_shape=[env.observation_space.shape[0]], use_bias=False),\n",
    "    BatchNormalization(),\n",
    "    Dense(32, activation='elu', use_bias=False),\n",
    "    BatchNormalization(),\n",
    "    Dense(N_OUTPUTS, activation='linear'),\n",
    "])\n",
    "\n",
    "optimizer = Adam(lr=1e-3)\n",
    "loss_fn = huber\n",
    "\n",
    "model.summary()"
   ]
  },
  {
   "cell_type": "markdown",
   "metadata": {},
   "source": [
    "### Memory\n",
    "We need some memory to play back actions from."
   ]
  },
  {
   "cell_type": "code",
   "execution_count": 30,
   "metadata": {},
   "outputs": [],
   "source": [
    "from collections import deque\n",
    "\n",
    "MEMORY = deque(maxlen=10000)"
   ]
  },
  {
   "cell_type": "markdown",
   "metadata": {},
   "source": [
    "### Custom reward function\n",
    "This sample code below can be activated to test what happens when a continuous reward is given. "
   ]
  },
  {
   "cell_type": "code",
   "execution_count": 31,
   "metadata": {},
   "outputs": [],
   "source": [
    "CUSTOM_REWARD = True  # Set to true if you want to try it out\n",
    "\n",
    "def custom_reward(obs):\n",
    "    \"\"\"Custom reward that takes into the angle and distance from the center into account\n",
    "    in a continous manner\n",
    "    \n",
    "    Based on:\n",
    "    \n",
    "        Num     Observation               Min                     Max\n",
    "        0       Cart Position             -4.8                    4.8\n",
    "        1       Cart Velocity             -Inf                    Inf\n",
    "        2       Pole Angle                -0.418 rad (-24 deg)    0.418 rad (24 deg)\n",
    "        3       Pole Angular Velocity     -Inf                    Inf\n",
    "    \n",
    "    source: https://github.com/openai/gym/blob/master/gym/envs/classic_control/cartpole.py    \n",
    "    \"\"\"\n",
    "    \n",
    "    position_reward = 1 - abs(obs[0] / 2.4)\n",
    "    velocity_reward = 1 / (1 + abs(obs[1]))\n",
    "    angle_reward = 1 - abs(obs[2] / 0.418)\n",
    "    angular_velocity_reward = 1 / (1 + abs(obs[3]))\n",
    "    \n",
    "    return position_reward + velocity_reward + angle_reward + angular_velocity_reward"
   ]
  },
  {
   "cell_type": "markdown",
   "metadata": {},
   "source": [
    "### Breakdown of the problem in helper function steps"
   ]
  },
  {
   "cell_type": "code",
   "execution_count": 32,
   "metadata": {},
   "outputs": [],
   "source": [
    "def epsilon_greedy_policy(model: tf.keras.Model, state: np.ndarray, epsilon: float):\n",
    "    if np.random.rand() < epsilon:\n",
    "        return np.random.randint(N_OUTPUTS)\n",
    "    else:\n",
    "        Q_values = model.predict(state[np.newaxis])\n",
    "        return np.argmax(Q_values[0])    \n",
    "    \n",
    "    \n",
    "def sample_experiences(batch_size: int):\n",
    "    \n",
    "    indices = np.random.randint(len(MEMORY), size=batch_size)\n",
    "    batch = [MEMORY[index] for index in indices]\n",
    "    states, actions, rewards, next_states, dones = [np.array(elm) for elm in zip(*batch)]\n",
    "    \n",
    "    return states, actions, rewards, next_states, dones\n",
    "\n",
    "def run_one_step(env: gym.Env, model: tf.keras.Model,\n",
    "                 state: np.ndarray, epsilon: float):\n",
    "    \n",
    "    action = epsilon_greedy_policy(model, state, epsilon)\n",
    "    next_state, reward, done, info = env.step(action)\n",
    "    if CUSTOM_REWARD:\n",
    "        reward = custom_reward(next_state)\n",
    "    \n",
    "    MEMORY.append((state, action, reward, next_state, done))\n",
    "    \n",
    "    return next_state, reward, done, info\n",
    "    \n",
    "def train_step(model: tf.keras.Model, target_model: tf.keras.Model, loss_fn: tf.keras.losses, optimizer: tf.keras.optimizers,\n",
    "               batch_size: int, gamma: float):\n",
    "    experiences = sample_experiences(batch_size)\n",
    "    states, actions, rewards, next_states, dones = experiences\n",
    "    \n",
    "    # Use the online model to select the best action\n",
    "    next_Q_values = model.predict(next_states)\n",
    "    next_best_actions = np.argmax(next_Q_values, axis=1)\n",
    "    mask = tf.one_hot(next_best_actions, N_OUTPUTS).numpy()\n",
    "    \n",
    "    # Use the target model to compute the corresponding Q-Values\n",
    "    next_best_Q_values = (target_model.predict(next_states) * mask).sum(axis=1)\n",
    "    target_Q_values = (rewards + (1 - dones)*gamma*next_best_Q_values).reshape(-1, 1)\n",
    "    \n",
    "    # Mask for the Q-Values to the actions that we took\n",
    "    mask = tf.one_hot(actions, N_OUTPUTS)\n",
    "    with tf.GradientTape() as tape:\n",
    "        all_Q_values = model(states)\n",
    "        Q_values = tf.reduce_sum(all_Q_values * mask, axis=1, keepdims=True)\n",
    "        loss = tf.reduce_mean(loss_fn(target_Q_values, Q_values))\n",
    "    \n",
    "    gradients = tape.gradient(loss, model.trainable_variables)\n",
    "    optimizer.apply_gradients(zip(gradients, model.trainable_variables))\n",
    "    \n",
    "    return model, optimizer"
   ]
  },
  {
   "cell_type": "markdown",
   "metadata": {},
   "source": [
    "### Combining it all into a trained double DQN"
   ]
  },
  {
   "cell_type": "code",
   "execution_count": 33,
   "metadata": {},
   "outputs": [
    {
     "name": "stderr",
     "output_type": "stream",
     "text": [
      "100%|██████████| 1000/1000 [28:11<00:00,  1.69s/it]\n"
     ]
    }
   ],
   "source": [
    "n_episodes = 1000\n",
    "n_steps = 200\n",
    "n_warmup = 50\n",
    "min_epsilon = 0.01\n",
    "\n",
    "double_q = True  # DQN use a target model and an online model\n",
    "\n",
    "batch_size = 128\n",
    "gamma = 0.5 if CUSTOM_REWARD else 0.95\n",
    "\n",
    "steps = []\n",
    "for episode in tqdm(range(n_episodes)):\n",
    "    if episode%10 == 0 and double_q:\n",
    "        target_model = tf.keras.models.clone_model(model)\n",
    "        target_model.set_weights(model.get_weights())\n",
    "    elif not double_q:\n",
    "        target_model = model\n",
    "    \n",
    "    state = env.reset()\n",
    "    \n",
    "    epsilon = max(1 - episode / (n_episodes - 100), min_epsilon)\n",
    "    for step in range(n_steps):\n",
    "        state, reward, done, info = run_one_step(env, model, state, epsilon)\n",
    "        if done:\n",
    "            steps.append(step)\n",
    "            break\n",
    "            \n",
    "    # Early stopping\n",
    "    if sum(steps[-10:])/10 > 180:\n",
    "        break\n",
    "    \n",
    "    if episode > n_warmup:\n",
    "        model, optimizer = train_step(model, target_model, loss_fn, optimizer, batch_size, gamma)    "
   ]
  },
  {
   "cell_type": "code",
   "execution_count": 43,
   "metadata": {},
   "outputs": [
    {
     "data": {
      "image/png": "[encoded data removed]",
      "text/plain": [
       "<Figure size 864x432 with 1 Axes>"
      ]
     },
     "metadata": {
      "needs_background": "light"
     },
     "output_type": "display_data"
    }
   ],
   "source": [
    "fig, ax = plt.subplots(figsize=(12,6))\n",
    "ax.plot(steps)\n",
    "ax.plot(np.convolve(steps, np.ones(50)/50, mode='valid'), label='running mean')\n",
    "ax.set_xlabel('Episode')\n",
    "ax.set_ylabel('Steps')\n",
    "ax.legend()\n",
    "plt.show()"
   ]
  },
  {
   "cell_type": "markdown",
   "metadata": {},
   "source": [
    "Seems to learn in a robust way"
   ]
  },
  {
   "cell_type": "code",
   "execution_count": null,
   "metadata": {},
   "outputs": [],
   "source": []
  }
 ],
 "metadata": {
  "kernelspec": {
   "display_name": "Python 3",
   "language": "python",
   "name": "python3"
  },
  "language_info": {
   "codemirror_mode": {
    "name": "ipython",
    "version": 3
   },
   "file_extension": ".py",
   "mimetype": "text/x-python",
   "name": "python",
   "nbconvert_exporter": "python",
   "pygments_lexer": "ipython3",
   "version": "3.8.5"
  },
  "toc-autonumbering": true,
  "toc-showcode": false,
  "toc-showmarkdowntxt": false,
  "toc-showtags": false
 },
 "nbformat": 4,
 "nbformat_minor": 4
}
