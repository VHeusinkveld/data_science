{
 "cells": [
  {
   "cell_type": "markdown",
   "metadata": {},
   "source": [
    "# RL on the CartPole-V1 Gym environment \n",
    ">Pages 613-642, Ch 18, Hands-On Machine Learning with Scikit-Learn, Keras, and TensorFlow, 2nd Edition.\n",
    "\n",
    "- Hardcoded policy\n",
    "- Policy Gradients REINFORCE\n",
    "- Deep Q-Learning `WIP`"
   ]
  },
  {
   "cell_type": "code",
   "execution_count": 1,
   "metadata": {},
   "outputs": [],
   "source": [
    "import gym\n",
    "import numpy as np\n",
    "import tensorflow as tf"
   ]
  },
  {
   "cell_type": "code",
   "execution_count": 2,
   "metadata": {},
   "outputs": [
    {
     "data": {
      "text/plain": [
       "[('Velocity', -0.04550005431958335),\n",
       " ('Position', -0.0030644112620319963),\n",
       " ('Angle', 0.027712444996177962),\n",
       " ('Angular velocity', 0.029129304140219456)]"
      ]
     },
     "execution_count": 2,
     "metadata": {},
     "output_type": "execute_result"
    }
   ],
   "source": [
    "try: env\n",
    "except NameError: env = None\n",
    "if env is not None: env.close()\n",
    "\n",
    "env = gym.make(\"CartPole-v1\")\n",
    "obs = env.reset()\n",
    "list(zip(['Velocity', 'Position', 'Angle', 'Angular velocity'], obs))"
   ]
  },
  {
   "cell_type": "code",
   "execution_count": 3,
   "metadata": {},
   "outputs": [
    {
     "data": {
      "image/png": "[encoded data removed]",
      "text/plain": [
       "<Figure size 432x288 with 1 Axes>"
      ]
     },
     "metadata": {
      "needs_background": "light"
     },
     "output_type": "display_data"
    }
   ],
   "source": [
    "import matplotlib.pyplot as plt\n",
    "\n",
    "img = env.render(mode='rgb_array')\n",
    "_ = plt.imshow(img)\n",
    "_ = plt.axis('off')"
   ]
  },
  {
   "cell_type": "markdown",
   "metadata": {},
   "source": [
    "## Hardcoded policy"
   ]
  },
  {
   "cell_type": "code",
   "execution_count": 4,
   "metadata": {},
   "outputs": [
    {
     "name": "stdout",
     "output_type": "stream",
     "text": [
      "Mean: 41.7, Std: 7.68, Min: 25.0, Max: 65.0\n"
     ]
    }
   ],
   "source": [
    "from time import sleep\n",
    "\n",
    "render = False\n",
    "policy = lambda obs: int(obs[2] > 0)  # Move to the same direction of the pole \n",
    "\n",
    "rewards = []\n",
    "for episode in range(100):\n",
    "    obs = env.reset()\n",
    "    episode_reward = 0\n",
    "    for step in range(200):\n",
    "        action = policy(obs)\n",
    "        obs, reward, done, info = env.step(action)\n",
    "        episode_reward += reward\n",
    "        \n",
    "        if render:\n",
    "            env.render()\n",
    "            sleep(0.001)\n",
    "        if done:\n",
    "            rewards.append(episode_reward)\n",
    "            break    \n",
    "            \n",
    "print(f'Mean: {np.mean(rewards)}, Std: {np.std(rewards):.2f}, Min: {np.min(rewards)}, Max: {np.max(rewards)}'    )"
   ]
  },
  {
   "cell_type": "markdown",
   "metadata": {},
   "source": [
    "## NN Policy Gradients `REINFORCE`\n",
    "\n",
    "1. First, let the neural network policy play the game several times, and at each step, compute the gradients that would make the chosen action even more likely but don’t apply these gradients yet.\n",
    "2. Once you have run several episodes, compute each action’s advantage (using the method described in the previous section).\n",
    "3. If an action’s advantage is positive, it means that the action was probably good, and you want to apply the gradients computed earlier to make the action even more likely to be chosen in the future. However, if the action’s advantage is negative, it means the action was probably bad, and you want to apply the opposite gradients to make this action slightly less likely in the future. The solution is simply to multiply each gradient vector by the corresponding action’s advantage.\n",
    "4. Finally, compute the mean of all the resulting gradient vectors, and use it to perform a Gradient Descent step"
   ]
  },
  {
   "cell_type": "markdown",
   "metadata": {},
   "source": [
    "### Create a model"
   ]
  },
  {
   "cell_type": "code",
   "execution_count": 5,
   "metadata": {},
   "outputs": [],
   "source": [
    "from tensorflow.keras import Sequential\n",
    "from tensorflow.keras.layers import Dense\n",
    "from tensorflow.keras.losses import binary_crossentropy\n",
    "from tensorflow.keras.optimizers import Adam\n",
    "\n",
    "model = Sequential([\n",
    "    Dense(16, activation='elu', input_shape=[env.observation_space.shape[0]]),\n",
    "    Dense(1, activation='sigmoid'),  # Binary action, left or right\n",
    "])\n",
    "\n",
    "optimizer = Adam(lr=1e-2)\n",
    "loss_fn = binary_crossentropy"
   ]
  },
  {
   "cell_type": "markdown",
   "metadata": {},
   "source": [
    "### Break down of the problem in helper function steps"
   ]
  },
  {
   "cell_type": "code",
   "execution_count": 6,
   "metadata": {},
   "outputs": [],
   "source": [
    "from time import sleep\n",
    "\n",
    "def run_one_step(env: gym.Env, obs: np.ndarray,\n",
    "                 model: tf.keras.Model, loss_fn: tf.keras.losses,\n",
    "                 render: bool):\n",
    "    \"\"\"Run one step of the environment. Option to render with 100 fps.\n",
    "    \n",
    "    - Compute and record gradients assuming all taken actions are correct\n",
    "    - Advance one step in the environment\n",
    "    \"\"\"\n",
    "    \n",
    "    with tf.GradientTape() as tape:\n",
    "        left_proba = model(obs[np.newaxis])\n",
    "        action = tf.random.uniform([1, 1]) > left_proba\n",
    "        \n",
    "        # Assume always correct. i.e. left action == 0 -> left proba == 1\n",
    "        target_y = tf.constant([1.]) - tf.cast(action, tf.float32)\n",
    "        loss = loss_fn(target_y, left_proba)\n",
    "    \n",
    "    gradients = tape.gradient(loss, model.trainable_variables)\n",
    "    obs, reward, done, info = env.step(int(action))\n",
    "    \n",
    "    if render:\n",
    "        env.render()\n",
    "        sleep(0.01) # 100 fps\n",
    "    \n",
    "    return obs, reward, done, gradients\n",
    "\n",
    "\n",
    "def run_episodes(env: gym.Env, n_episodes: int, n_max_steps: int,\n",
    "                 model: tf.keras.Model, loss_fn: tf.keras.losses,\n",
    "                 render: bool = False):\n",
    "    \"\"\"Run multiple episodes looping over run_one_step\n",
    "    \n",
    "    - Record rewards and gradients\n",
    "    \"\"\"\n",
    "    \n",
    "    all_gradients = []\n",
    "    all_rewards = []\n",
    "    for episode in range(n_episodes):\n",
    "        obs = env.reset()\n",
    "        episode_gradients = []\n",
    "        episode_rewards = []\n",
    "        for step in range(n_max_steps):\n",
    "            obs, reward, done, gradients = run_one_step(env, obs, model, loss_fn, render)\n",
    "            episode_rewards.append(reward)\n",
    "            episode_gradients.append(gradients)\n",
    "\n",
    "            if done:\n",
    "                break\n",
    "                \n",
    "        all_rewards.append(episode_rewards)       \n",
    "        all_gradients.append(episode_gradients)\n",
    "                \n",
    "    return all_gradients, all_rewards\n",
    "  \n",
    "\n",
    "def discount_all_rewards(all_rewards: '2D arary', gamma):\n",
    "    \"\"\"Discount rewards (list of lists) with factor gamma\"\"\"\n",
    "    \n",
    "    all_discounted_rewards = []    \n",
    "    for episode_rewards in all_rewards:\n",
    "        discounted_rewards = [episode_rewards[-1]]\n",
    "        for i in range(len(episode_rewards) - 1):\n",
    "            discounted_rewards.append(episode_rewards[-i + 1] + gamma*discounted_rewards[i])\n",
    "        discounted_rewards.reverse()\n",
    "        \n",
    "        all_discounted_rewards.append(discounted_rewards)\n",
    "   \n",
    "    return all_discounted_rewards\n",
    "\n",
    "\n",
    "def normalize_all_rewards(all_rewards: '2D array'):\n",
    "    \"\"\"Normalize rewards (list of lists)\"\"\"   \n",
    "    \n",
    "    all_norm_rewards = []\n",
    "    for episode_rewards in all_rewards:\n",
    "        rewards_mean = np.mean(episode_rewards)\n",
    "        rewards_std = np.std(episode_rewards)\n",
    "        \n",
    "        normed_episode_rewards = (np.array(episode_rewards) - rewards_mean ) / rewards_std\n",
    "        \n",
    "        all_norm_rewards.append(normed_episode_rewards)\n",
    "    \n",
    "    return all_norm_rewards\n",
    "\n",
    "\n",
    "def report_stats(rewards):\n",
    "    rewards = [sum(reward) for reward in rewards]\n",
    "    rewards = np.array(rewards)\n",
    "    return f'Mean: {np.mean(rewards)}, Std: {np.std(rewards):.2f}, Min: {np.min(rewards)}, Max: {np.max(rewards)}'    "
   ]
  },
  {
   "cell_type": "markdown",
   "metadata": {},
   "source": [
    "### Stiching it all together"
   ]
  },
  {
   "cell_type": "code",
   "execution_count": 7,
   "metadata": {},
   "outputs": [
    {
     "name": "stdout",
     "output_type": "stream",
     "text": [
      "Iteration 0/101: Mean: 24.0, Std: 16.72, Min: 11.0, Max: 56.0\n",
      "Iteration 10/101: Mean: 41.8, Std: 11.12, Min: 29.0, Max: 60.0\n",
      "Iteration 20/101: Mean: 67.6, Std: 36.30, Min: 30.0, Max: 134.0\n",
      "Iteration 30/101: Mean: 38.0, Std: 17.88, Min: 15.0, Max: 70.0\n",
      "Iteration 40/101: Mean: 72.6, Std: 29.93, Min: 30.0, Max: 115.0\n",
      "Iteration 50/101: Mean: 127.4, Std: 60.89, Min: 17.0, Max: 200.0\n",
      "Iteration 60/101: Mean: 167.8, Std: 48.82, Min: 74.0, Max: 200.0\n",
      "Iteration 70/101: Mean: 174.0, Std: 22.97, Min: 145.0, Max: 200.0\n",
      "Iteration 80/101: Mean: 171.8, Std: 34.55, Min: 128.0, Max: 200.0\n",
      "Iteration 90/101: Mean: 179.0, Std: 26.91, Min: 135.0, Max: 200.0\n",
      "Iteration 100/101: Mean: 192.0, Std: 15.02, Min: 162.0, Max: 200.0\n"
     ]
    }
   ],
   "source": [
    "train_steps = 101\n",
    "gamma = 0.95  # discount factor\n",
    "\n",
    "n_episodes = 5  # episodes per training step\n",
    "n_max_steps = 200 # max number of steps per episode, 200 for CartPole\n",
    "\n",
    "for train_step in range(train_steps):\n",
    "    gradients, rewards = run_episodes(env=env, n_episodes=n_episodes, n_max_steps=n_max_steps, \n",
    "                                      model=model, loss_fn=loss_fn, render=False)\n",
    "    \n",
    "    if not train_step%10:\n",
    "        print(f'Iteration {train_step}/{train_steps}: {report_stats(rewards)}')\n",
    "    \n",
    "    discounted_rewards = discount_all_rewards(rewards, gamma)\n",
    "    normalized_rewards = normalize_all_rewards(discounted_rewards)\n",
    "    \n",
    "    all_gradients = []\n",
    "    for var_index in range(len(model.trainable_variables)):\n",
    "        var_gradients = []\n",
    "        for episode_rewards, episode_gradients in zip(normalized_rewards, gradients):\n",
    "            for step_reward, step_gradients in zip(episode_rewards, episode_gradients):\n",
    "                var_gradients.append(step_reward*step_gradients[var_index])\n",
    "                \n",
    "        var_gradients = np.mean(var_gradients, axis=0)\n",
    "        all_gradients.append(var_gradients)\n",
    "                \n",
    "    optimizer.apply_gradients(zip(all_gradients, model.trainable_variables))"
   ]
  },
  {
   "cell_type": "markdown",
   "metadata": {},
   "source": [
    "### Visualizing the learned model"
   ]
  },
  {
   "cell_type": "code",
   "execution_count": 8,
   "metadata": {},
   "outputs": [
    {
     "name": "stdout",
     "output_type": "stream",
     "text": [
      "200/200\n"
     ]
    }
   ],
   "source": [
    "# NOTE: you need to have a display to see the result\n",
    "_, all_rewards = run_episodes(env, n_episodes=1, n_max_steps=n_max_steps,\n",
    "                              model=model, loss_fn=loss_fn, render=True)\n",
    "\n",
    "print(f'{int(sum(all_rewards[0]))}/{n_max_steps}')"
   ]
  },
  {
   "cell_type": "markdown",
   "metadata": {},
   "source": [
    "## Deep Q-Learning"
   ]
  },
  {
   "cell_type": "code",
   "execution_count": null,
   "metadata": {},
   "outputs": [],
   "source": []
  },
  {
   "cell_type": "code",
   "execution_count": null,
   "metadata": {},
   "outputs": [],
   "source": []
  }
 ],
 "metadata": {
  "kernelspec": {
   "display_name": "Python 3",
   "language": "python",
   "name": "python3"
  },
  "language_info": {
   "codemirror_mode": {
    "name": "ipython",
    "version": 3
   },
   "file_extension": ".py",
   "mimetype": "text/x-python",
   "name": "python",
   "nbconvert_exporter": "python",
   "pygments_lexer": "ipython3",
   "version": "3.8.5"
  },
  "toc-autonumbering": true,
  "toc-showcode": false,
  "toc-showmarkdowntxt": false,
  "toc-showtags": false
 },
 "nbformat": 4,
 "nbformat_minor": 4
}
