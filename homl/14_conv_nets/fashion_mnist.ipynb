{
 "cells": [
  {
   "cell_type": "markdown",
   "id": "static-demographic",
   "metadata": {},
   "source": [
    "# Conv on fashion MNIST"
   ]
  },
  {
   "cell_type": "code",
   "execution_count": 1,
   "id": "undefined-custom",
   "metadata": {},
   "outputs": [],
   "source": [
    "import tensorflow as tf\n",
    "import tensorflow.keras as keras"
   ]
  },
  {
   "cell_type": "code",
   "execution_count": 2,
   "id": "removed-strand",
   "metadata": {},
   "outputs": [
    {
     "name": "stdout",
     "output_type": "stream",
     "text": [
      "(28, 28) 255\n"
     ]
    }
   ],
   "source": [
    "fashion_mnist = tf.keras.datasets.fashion_mnist.load_data()\n",
    "train_set, test_set = fashion_mnist\n",
    "\n",
    "print(train_set[0][0].shape, train_set[0][0].max())"
   ]
  },
  {
   "cell_type": "code",
   "execution_count": 3,
   "id": "grateful-transcript",
   "metadata": {},
   "outputs": [
    {
     "name": "stdout",
     "output_type": "stream",
     "text": [
      "Model: \"sequential\"\n",
      "_________________________________________________________________\n",
      "Layer (type)                 Output Shape              Param #   \n",
      "=================================================================\n",
      "lambda (Lambda)              (None, 28, 28)            0         \n",
      "_________________________________________________________________\n",
      "dropout (Dropout)            (None, 28, 28)            0         \n",
      "_________________________________________________________________\n",
      "reshape (Reshape)            (None, 28, 28, 1)         0         \n",
      "_________________________________________________________________\n",
      "conv2d (Conv2D)              (None, 13, 13, 64)        640       \n",
      "_________________________________________________________________\n",
      "conv2d_1 (Conv2D)            (None, 6, 6, 32)          18464     \n",
      "_________________________________________________________________\n",
      "conv2d_2 (Conv2D)            (None, 2, 2, 32)          9248      \n",
      "_________________________________________________________________\n",
      "max_pooling2d (MaxPooling2D) (None, 1, 1, 32)          0         \n",
      "_________________________________________________________________\n",
      "flatten (Flatten)            (None, 32)                0         \n",
      "_________________________________________________________________\n",
      "dense (Dense)                (None, 100)               3300      \n",
      "_________________________________________________________________\n",
      "dense_1 (Dense)              (None, 10)                1010      \n",
      "=================================================================\n",
      "Total params: 32,662\n",
      "Trainable params: 32,662\n",
      "Non-trainable params: 0\n",
      "_________________________________________________________________\n"
     ]
    }
   ],
   "source": [
    "from tensorflow.keras.layers import (\n",
    "    Conv2D, Dense, MaxPool2D, Lambda,\n",
    "    Flatten, InputLayer, Reshape, Dropout\n",
    ")\n",
    "\n",
    "model = keras.models.Sequential([\n",
    "    InputLayer(input_shape=(28,28)),\n",
    "    Lambda(lambda x: x / 255.),\n",
    "    Dropout(0.5),\n",
    "    Reshape((28, 28, 1)),\n",
    "    Conv2D(64, (3, 3), 2, activation='selu'),\n",
    "    Conv2D(32, (3, 3), 2, activation='selu'),\n",
    "    Conv2D(32, (3, 3), 2, activation='selu'),\n",
    "    MaxPool2D(),\n",
    "    Flatten(),\n",
    "    Dense(100, activation='selu'),\n",
    "    Dense(10, activation='softmax'),\n",
    "])\n",
    "\n",
    "model.summary()"
   ]
  },
  {
   "cell_type": "code",
   "execution_count": 4,
   "id": "amazing-campaign",
   "metadata": {},
   "outputs": [],
   "source": [
    "optimizer = keras.optimizers.Adam()\n",
    "model.compile(loss='sparse_categorical_crossentropy',\n",
    "              optimizer=optimizer, metrics=['accuracy'])"
   ]
  },
  {
   "cell_type": "code",
   "execution_count": null,
   "id": "second-sentence",
   "metadata": {},
   "outputs": [
    {
     "name": "stdout",
     "output_type": "stream",
     "text": [
      "Epoch 1/10\n",
      "469/469 [==============================] - 12s 24ms/step - loss: 1.0293 - accuracy: 0.6231 - val_loss: 0.5785 - val_accuracy: 0.7840\n",
      "Epoch 2/10\n",
      "469/469 [==============================] - 11s 24ms/step - loss: 0.5954 - accuracy: 0.7743 - val_loss: 0.5302 - val_accuracy: 0.8027\n",
      "Epoch 3/10\n",
      "469/469 [==============================] - 11s 23ms/step - loss: 0.5572 - accuracy: 0.7881 - val_loss: 0.5143 - val_accuracy: 0.8085\n",
      "Epoch 4/10\n",
      "469/469 [==============================] - 10s 21ms/step - loss: 0.5243 - accuracy: 0.7983 - val_loss: 0.4928 - val_accuracy: 0.8094\n",
      "Epoch 5/10\n",
      "469/469 [==============================] - 10s 21ms/step - loss: 0.5093 - accuracy: 0.8066 - val_loss: 0.5136 - val_accuracy: 0.8073\n",
      "Epoch 6/10\n",
      "469/469 [==============================] - 10s 22ms/step - loss: 0.5058 - accuracy: 0.8090 - val_loss: 0.4882 - val_accuracy: 0.8036\n",
      "Epoch 7/10\n",
      "469/469 [==============================] - 10s 21ms/step - loss: 0.4894 - accuracy: 0.8141 - val_loss: 0.4745 - val_accuracy: 0.8208\n",
      "Epoch 8/10\n",
      "334/469 [====================>.........] - ETA: 3s - loss: 0.4859 - accuracy: 0.8140"
     ]
    }
   ],
   "source": [
    "model.fit(x=train_set[0], y=train_set[1], batch_size=128, epochs=10, \n",
    "          validation_data=test_set)"
   ]
  },
  {
   "cell_type": "markdown",
   "id": "considerable-possession",
   "metadata": {},
   "source": [
    "## Latent maps"
   ]
  },
  {
   "cell_type": "code",
   "execution_count": null,
   "id": "entitled-nelson",
   "metadata": {},
   "outputs": [],
   "source": [
    "from tensorflow.keras.models import Model\n",
    "layer1 = Model(inputs=model.inputs, outputs=model.layers[3].output)\n",
    "layer1.summary()"
   ]
  },
  {
   "cell_type": "code",
   "execution_count": null,
   "id": "maritime-permit",
   "metadata": {},
   "outputs": [],
   "source": [
    "import matplotlib.pyplot as plt\n",
    "IMG = 1\n",
    "\n",
    "plt.imshow(test_set[0][IMG])\n",
    "plt.show()\n",
    "fig, axes = plt.subplots(8, 8, figsize=(12,12))\n",
    "axes = axes.flatten()\n",
    "for i in range(64):\n",
    "    pred = layer1.predict(test_set[0][IMG].reshape(1,28,28,1))\n",
    "    axes[i].imshow(pred[0,:,:,i], vmax=1, vmin=0)\n",
    "    axes[i].axis('off')\n",
    "    \n",
    "plt.axis('off')\n",
    "plt.show()"
   ]
  },
  {
   "cell_type": "code",
   "execution_count": null,
   "id": "ignored-captain",
   "metadata": {},
   "outputs": [],
   "source": []
  }
 ],
 "metadata": {
  "kernelspec": {
   "display_name": "Python 3",
   "language": "python",
   "name": "python3"
  },
  "language_info": {
   "codemirror_mode": {
    "name": "ipython",
    "version": 3
   },
   "file_extension": ".py",
   "mimetype": "text/x-python",
   "name": "python",
   "nbconvert_exporter": "python",
   "pygments_lexer": "ipython3",
   "version": "3.8.5"
  }
 },
 "nbformat": 4,
 "nbformat_minor": 5
}
